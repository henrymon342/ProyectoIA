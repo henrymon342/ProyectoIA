{
 "cells": [
  {
   "cell_type": "code",
   "execution_count": 3,
   "metadata": {},
   "outputs": [
    {
     "ename": "ModuleNotFoundError",
     "evalue": "No module named 'pandas'",
     "output_type": "error",
     "traceback": [
      "\u001b[1;31m---------------------------------------------------------------------------\u001b[0m",
      "\u001b[1;31mModuleNotFoundError\u001b[0m                       Traceback (most recent call last)",
      "\u001b[1;32m<ipython-input-3-91676bf6814a>\u001b[0m in \u001b[0;36m<module>\u001b[1;34m\u001b[0m\n\u001b[1;32m----> 1\u001b[1;33m \u001b[1;32mimport\u001b[0m \u001b[0mpandas\u001b[0m \u001b[1;32mas\u001b[0m \u001b[0mpd\u001b[0m\u001b[1;33m\u001b[0m\u001b[1;33m\u001b[0m\u001b[0m\n\u001b[0m\u001b[0;32m      2\u001b[0m \u001b[1;32mimport\u001b[0m \u001b[0mnumpy\u001b[0m \u001b[1;32mas\u001b[0m \u001b[0mnp\u001b[0m\u001b[1;33m\u001b[0m\u001b[1;33m\u001b[0m\u001b[0m\n\u001b[0;32m      3\u001b[0m \u001b[1;33m\u001b[0m\u001b[0m\n\u001b[0;32m      4\u001b[0m \u001b[1;32mfrom\u001b[0m \u001b[0msklearn\u001b[0m\u001b[1;33m.\u001b[0m\u001b[0mtree\u001b[0m \u001b[1;32mimport\u001b[0m \u001b[0mDecisionTreeClassifier\u001b[0m\u001b[1;33m\u001b[0m\u001b[1;33m\u001b[0m\u001b[0m\n\u001b[0;32m      5\u001b[0m \u001b[1;32mfrom\u001b[0m \u001b[0msklearn\u001b[0m\u001b[1;33m.\u001b[0m\u001b[0mmodel_selection\u001b[0m \u001b[1;32mimport\u001b[0m \u001b[0mtrain_test_split\u001b[0m\u001b[1;33m\u001b[0m\u001b[1;33m\u001b[0m\u001b[0m\n",
      "\u001b[1;31mModuleNotFoundError\u001b[0m: No module named 'pandas'"
     ]
    }
   ],
   "source": [
    "import pandas as pd\n",
    "import numpy as np\n",
    "\n",
    "from sklearn.tree import DecisionTreeClassifier\n",
    "from sklearn.model_selection import train_test_split\n",
    "\n",
    "# gender\n",
    "# race/ethnicity \n",
    "# parental_level_of_education \n",
    "# lunch \n",
    "# test_preparation_course\n",
    "# math_score\n",
    "# reading_score\n",
    "# writing_score \n",
    "\n",
    "data = pd.read_csv(\"StudentsPerformance.csv\")\n",
    "# print(data.tail())\n",
    "\n",
    "\n",
    "\n",
    "#PREPROCESAMIENTO\n",
    "#\"math score\",\"reading score\",\"writing score\"\n",
    "promath = data['math score'].mean()\n",
    "proreading = data['reading score'].mean()\n",
    "prowriting = data['writing score'].mean()\n",
    "data['math score'].replace(np.nan, promath)\n",
    "data['reading score'].replace(np.nan, proreading)\n",
    "data['writing score'].replace(np.nan, prowriting)\n",
    "\n",
    "header = ['genero', 'raza', 'nivel de educacion padres', 'almuerzo', 'test de preparacion', 'nota matematicas', 'nota lectura', 'nota escritura']\n",
    "data.columns = header\n",
    "\n",
    "data = pd.get_dummies(data, columns = ['genero'], drop_first = True)\n",
    "data = pd.get_dummies(data, columns = ['test de preparacion'], drop_first = True)\n",
    "\n",
    "print(data)\n",
    "\n",
    "\n",
    "df = pd.DataFrame(data)\n",
    "datos = df.iloc[:,:].values\n",
    "print(datos)\n",
    "x = datos[:,5:8]\n",
    "y = datos[:,0:1]\n",
    "print(x)\n",
    "print(y)\n",
    "X_train, X_test, y_train, y_test = train_test_split(x, y, test_size = 0.2, random_state = 42)\n",
    "\n",
    "print(\"X_train\")\n",
    "print(X_train)\n",
    "print(\"y_train\")\n",
    "print(y_train)\n"
   ]
  },
  {
   "cell_type": "code",
   "execution_count": null,
   "metadata": {},
   "outputs": [],
   "source": []
  }
 ],
 "metadata": {
  "kernelspec": {
   "display_name": "Python 3",
   "language": "python",
   "name": "python3"
  },
  "language_info": {
   "codemirror_mode": {
    "name": "ipython",
    "version": 3
   },
   "file_extension": ".py",
   "mimetype": "text/x-python",
   "name": "python",
   "nbconvert_exporter": "python",
   "pygments_lexer": "ipython3",
   "version": "3.7.5"
  }
 },
 "nbformat": 4,
 "nbformat_minor": 4
}
